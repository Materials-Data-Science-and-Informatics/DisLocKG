{
 "cells": [
  {
   "cell_type": "code",
   "execution_count": 1,
   "id": "opposite-psychiatry",
   "metadata": {},
   "outputs": [],
   "source": [
    "import h5py"
   ]
  },
  {
   "cell_type": "code",
   "execution_count": 2,
   "id": "stylish-athletics",
   "metadata": {},
   "outputs": [],
   "source": [
    "file_path = \"../../data/modelib-microstructure/modelib-zr-microstucture.h5\""
   ]
  },
  {
   "cell_type": "code",
   "execution_count": 3,
   "id": "lonely-magnitude",
   "metadata": {},
   "outputs": [
    {
     "ename": "FileNotFoundError",
     "evalue": "[Errno 2] Unable to open file (unable to open file: name = './modelib-nickel-microstucture.h5', errno = 2, error message = 'No such file or directory', flags = 0, o_flags = 0)",
     "output_type": "error",
     "traceback": [
      "\u001b[0;31m---------------------------------------------------------------------------\u001b[0m",
      "\u001b[0;31mFileNotFoundError\u001b[0m                         Traceback (most recent call last)",
      "\u001b[0;32m/var/folders/fm/n08366yx6k9cpvnn02zyl2j80000gn/T/ipykernel_36608/258778664.py\u001b[0m in \u001b[0;36m<module>\u001b[0;34m\u001b[0m\n\u001b[1;32m      1\u001b[0m \u001b[0;31m# import data\u001b[0m\u001b[0;34m\u001b[0m\u001b[0;34m\u001b[0m\u001b[0;34m\u001b[0m\u001b[0m\n\u001b[0;32m----> 2\u001b[0;31m \u001b[0mdata\u001b[0m \u001b[0;34m=\u001b[0m \u001b[0mh5py\u001b[0m\u001b[0;34m.\u001b[0m\u001b[0mFile\u001b[0m\u001b[0;34m(\u001b[0m\u001b[0mfile_path\u001b[0m\u001b[0;34m,\u001b[0m \u001b[0;34m\"r\"\u001b[0m\u001b[0;34m)\u001b[0m\u001b[0;34m\u001b[0m\u001b[0;34m\u001b[0m\u001b[0m\n\u001b[0m",
      "\u001b[0;32m~/.virtualenv/basic/lib/python3.8/site-packages/h5py/_hl/files.py\u001b[0m in \u001b[0;36m__init__\u001b[0;34m(self, name, mode, driver, libver, userblock_size, swmr, rdcc_nslots, rdcc_nbytes, rdcc_w0, track_order, fs_strategy, fs_persist, fs_threshold, **kwds)\u001b[0m\n\u001b[1;32m    442\u001b[0m             \u001b[0;32mwith\u001b[0m \u001b[0mphil\u001b[0m\u001b[0;34m:\u001b[0m\u001b[0;34m\u001b[0m\u001b[0;34m\u001b[0m\u001b[0m\n\u001b[1;32m    443\u001b[0m                 \u001b[0mfapl\u001b[0m \u001b[0;34m=\u001b[0m \u001b[0mmake_fapl\u001b[0m\u001b[0;34m(\u001b[0m\u001b[0mdriver\u001b[0m\u001b[0;34m,\u001b[0m \u001b[0mlibver\u001b[0m\u001b[0;34m,\u001b[0m \u001b[0mrdcc_nslots\u001b[0m\u001b[0;34m,\u001b[0m \u001b[0mrdcc_nbytes\u001b[0m\u001b[0;34m,\u001b[0m \u001b[0mrdcc_w0\u001b[0m\u001b[0;34m,\u001b[0m \u001b[0;34m**\u001b[0m\u001b[0mkwds\u001b[0m\u001b[0;34m)\u001b[0m\u001b[0;34m\u001b[0m\u001b[0;34m\u001b[0m\u001b[0m\n\u001b[0;32m--> 444\u001b[0;31m                 fid = make_fid(name, mode, userblock_size,\n\u001b[0m\u001b[1;32m    445\u001b[0m                                fapl, fcpl=make_fcpl(track_order=track_order, fs_strategy=fs_strategy,\n\u001b[1;32m    446\u001b[0m                                fs_persist=fs_persist, fs_threshold=fs_threshold),\n",
      "\u001b[0;32m~/.virtualenv/basic/lib/python3.8/site-packages/h5py/_hl/files.py\u001b[0m in \u001b[0;36mmake_fid\u001b[0;34m(name, mode, userblock_size, fapl, fcpl, swmr)\u001b[0m\n\u001b[1;32m    197\u001b[0m         \u001b[0;32mif\u001b[0m \u001b[0mswmr\u001b[0m \u001b[0;32mand\u001b[0m \u001b[0mswmr_support\u001b[0m\u001b[0;34m:\u001b[0m\u001b[0;34m\u001b[0m\u001b[0;34m\u001b[0m\u001b[0m\n\u001b[1;32m    198\u001b[0m             \u001b[0mflags\u001b[0m \u001b[0;34m|=\u001b[0m \u001b[0mh5f\u001b[0m\u001b[0;34m.\u001b[0m\u001b[0mACC_SWMR_READ\u001b[0m\u001b[0;34m\u001b[0m\u001b[0;34m\u001b[0m\u001b[0m\n\u001b[0;32m--> 199\u001b[0;31m         \u001b[0mfid\u001b[0m \u001b[0;34m=\u001b[0m \u001b[0mh5f\u001b[0m\u001b[0;34m.\u001b[0m\u001b[0mopen\u001b[0m\u001b[0;34m(\u001b[0m\u001b[0mname\u001b[0m\u001b[0;34m,\u001b[0m \u001b[0mflags\u001b[0m\u001b[0;34m,\u001b[0m \u001b[0mfapl\u001b[0m\u001b[0;34m=\u001b[0m\u001b[0mfapl\u001b[0m\u001b[0;34m)\u001b[0m\u001b[0;34m\u001b[0m\u001b[0;34m\u001b[0m\u001b[0m\n\u001b[0m\u001b[1;32m    200\u001b[0m     \u001b[0;32melif\u001b[0m \u001b[0mmode\u001b[0m \u001b[0;34m==\u001b[0m \u001b[0;34m'r+'\u001b[0m\u001b[0;34m:\u001b[0m\u001b[0;34m\u001b[0m\u001b[0;34m\u001b[0m\u001b[0m\n\u001b[1;32m    201\u001b[0m         \u001b[0mfid\u001b[0m \u001b[0;34m=\u001b[0m \u001b[0mh5f\u001b[0m\u001b[0;34m.\u001b[0m\u001b[0mopen\u001b[0m\u001b[0;34m(\u001b[0m\u001b[0mname\u001b[0m\u001b[0;34m,\u001b[0m \u001b[0mh5f\u001b[0m\u001b[0;34m.\u001b[0m\u001b[0mACC_RDWR\u001b[0m\u001b[0;34m,\u001b[0m \u001b[0mfapl\u001b[0m\u001b[0;34m=\u001b[0m\u001b[0mfapl\u001b[0m\u001b[0;34m)\u001b[0m\u001b[0;34m\u001b[0m\u001b[0;34m\u001b[0m\u001b[0m\n",
      "\u001b[0;32mh5py/_objects.pyx\u001b[0m in \u001b[0;36mh5py._objects.with_phil.wrapper\u001b[0;34m()\u001b[0m\n",
      "\u001b[0;32mh5py/_objects.pyx\u001b[0m in \u001b[0;36mh5py._objects.with_phil.wrapper\u001b[0;34m()\u001b[0m\n",
      "\u001b[0;32mh5py/h5f.pyx\u001b[0m in \u001b[0;36mh5py.h5f.open\u001b[0;34m()\u001b[0m\n",
      "\u001b[0;31mFileNotFoundError\u001b[0m: [Errno 2] Unable to open file (unable to open file: name = './modelib-nickel-microstucture.h5', errno = 2, error message = 'No such file or directory', flags = 0, o_flags = 0)"
     ]
    }
   ],
   "source": [
    "# import data\n",
    "data = h5py.File(file_path, \"r\")"
   ]
  },
  {
   "cell_type": "markdown",
   "id": "pressed-passenger",
   "metadata": {},
   "source": [
    "### Groups & Keys\n",
    "\n",
    "**Keys:** Time steps \n",
    "\n",
    "**Groups:** Accessing is by the keys. Each group has their own datasets that corresponds to the key of the group (time step)."
   ]
  },
  {
   "cell_type": "code",
   "execution_count": null,
   "id": "dirty-assistant",
   "metadata": {},
   "outputs": [],
   "source": [
    "data.keys()"
   ]
  },
  {
   "cell_type": "code",
   "execution_count": null,
   "id": "optimum-vienna",
   "metadata": {},
   "outputs": [],
   "source": [
    "data['00000050']"
   ]
  },
  {
   "cell_type": "markdown",
   "id": "rental-reach",
   "metadata": {},
   "source": [
    "### Attributes\n",
    "\n",
    "Little information pieces for each time step are attached as attributes to each group. \n",
    "\n",
    "\n",
    "\n",
    "**From docs.h5py.org:** *Attributes are small named pieces of data attached directly to `Group` and `Dataset` objects. This is the official way to store metadata in HDF5.*"
   ]
  },
  {
   "cell_type": "code",
   "execution_count": null,
   "id": "fixed-combat",
   "metadata": {
    "scrolled": true
   },
   "outputs": [],
   "source": [
    "list(data['00000050'].attrs.keys())"
   ]
  },
  {
   "cell_type": "code",
   "execution_count": null,
   "id": "dangerous-pulse",
   "metadata": {
    "scrolled": true
   },
   "outputs": [],
   "source": [
    "list(data['00000050'].attrs.values())"
   ]
  },
  {
   "cell_type": "code",
   "execution_count": null,
   "id": "monetary-click",
   "metadata": {
    "scrolled": true
   },
   "outputs": [],
   "source": [
    "list(data['00000060'].attrs.items())"
   ]
  },
  {
   "cell_type": "markdown",
   "id": "infectious-counter",
   "metadata": {},
   "source": [
    "### Datasets\n",
    "\n",
    "At each time step, there are collections of different type of data. \n",
    "\n",
    "**Example:** at `time_step = 50`, there are approx. 150000 vertices and each vertex has properties such as coordinates, id etc. The all information on vertices at the time step 50 is one dataset. At the same time step, there are approx. 40000 junctions. Similarly, each jucntion also has certain properties such as id and surface_id. The infromation of the junctions at `time_step = 50` is another data set."
   ]
  },
  {
   "cell_type": "code",
   "execution_count": null,
   "id": "checked-cotton",
   "metadata": {},
   "outputs": [],
   "source": [
    "data['00000050'].keys()"
   ]
  },
  {
   "cell_type": "code",
   "execution_count": null,
   "id": "organized-conference",
   "metadata": {},
   "outputs": [],
   "source": [
    "node_data_50 = data['00000050']['node data']"
   ]
  },
  {
   "cell_type": "code",
   "execution_count": null,
   "id": "bf43c877-d477-42a3-b411-8419e89e0dc5",
   "metadata": {},
   "outputs": [],
   "source": [
    "loop_data_50 = data['00000050']['loop data']"
   ]
  },
  {
   "cell_type": "code",
   "execution_count": null,
   "id": "cbcc037b-1d45-49f3-9ec1-1b2873908f94",
   "metadata": {},
   "outputs": [],
   "source": [
    "segment_data_50 = data['00000050']['linker data']"
   ]
  },
  {
   "cell_type": "markdown",
   "id": "blessed-uganda",
   "metadata": {},
   "source": [
    "### dtype\n",
    "\n",
    "Each dataset has its own unique `dtype`. By this way, property names and their individual data types can be stored."
   ]
  },
  {
   "cell_type": "code",
   "execution_count": null,
   "id": "administrative-scanner",
   "metadata": {},
   "outputs": [],
   "source": [
    "node_data_50.dtype"
   ]
  },
  {
   "cell_type": "code",
   "execution_count": null,
   "id": "c8027dcb-79c1-4934-a91c-fd17ded5a1cb",
   "metadata": {},
   "outputs": [],
   "source": [
    "loop_data_50.dtype"
   ]
  },
  {
   "cell_type": "code",
   "execution_count": null,
   "id": "1c405bd3-8308-4b1e-a3f7-984caffbc86b",
   "metadata": {},
   "outputs": [],
   "source": [
    "segment_data_50.dtype"
   ]
  },
  {
   "cell_type": "code",
   "execution_count": null,
   "id": "speaking-expression",
   "metadata": {},
   "outputs": [],
   "source": [
    "# number of nodes\n",
    "len(segment_data_50)"
   ]
  },
  {
   "cell_type": "code",
   "execution_count": null,
   "id": "ca7efc3c",
   "metadata": {},
   "outputs": [],
   "source": [
    "isinstance(node_data_50)"
   ]
  },
  {
   "cell_type": "code",
   "execution_count": null,
   "id": "north-playback",
   "metadata": {},
   "outputs": [],
   "source": [
    "# node data with id = 10\n",
    "node_data_50[10]"
   ]
  },
  {
   "cell_type": "code",
   "execution_count": null,
   "id": "corresponding-fundamental",
   "metadata": {},
   "outputs": [],
   "source": [
    "# coordinates of node 10\n",
    "node_data_50[10][1]"
   ]
  },
  {
   "cell_type": "code",
   "execution_count": null,
   "id": "ongoing-spine",
   "metadata": {},
   "outputs": [],
   "source": [
    "# coordinates of node 10\n",
    "node_data_50[10][\"coordinates\"]"
   ]
  },
  {
   "cell_type": "code",
   "execution_count": null,
   "id": "collectible-garbage",
   "metadata": {},
   "outputs": [],
   "source": []
  },
  {
   "cell_type": "code",
   "execution_count": null,
   "id": "alternative-inspiration",
   "metadata": {},
   "outputs": [],
   "source": []
  },
  {
   "cell_type": "code",
   "execution_count": null,
   "id": "moderate-cooperation",
   "metadata": {},
   "outputs": [],
   "source": []
  }
 ],
 "metadata": {
  "kernelspec": {
   "display_name": "Python 3 (ipykernel)",
   "language": "python",
   "name": "python3"
  },
  "language_info": {
   "codemirror_mode": {
    "name": "ipython",
    "version": 3
   },
   "file_extension": ".py",
   "mimetype": "text/x-python",
   "name": "python",
   "nbconvert_exporter": "python",
   "pygments_lexer": "ipython3",
   "version": "3.8.9"
  }
 },
 "nbformat": 4,
 "nbformat_minor": 5
}
